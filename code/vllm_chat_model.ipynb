{
 "cells": [
  {
   "cell_type": "code",
   "execution_count": 4,
   "metadata": {},
   "outputs": [],
   "source": [
    "from langchain.chat_models import ChatOpenAI\n",
    "from langchain.prompts.chat import (\n",
    "    ChatPromptTemplate,\n",
    "    HumanMessagePromptTemplate,\n",
    "    SystemMessagePromptTemplate,\n",
    ")\n",
    "from langchain.schema import HumanMessage, SystemMessage"
   ]
  },
  {
   "cell_type": "code",
   "execution_count": 8,
   "metadata": {},
   "outputs": [],
   "source": [
    "inference_server_url = \"http://localhost:8000/v1\"\n",
    "\n",
    "chat = ChatOpenAI(\n",
    "    model=\"TheBloke/Mistral-7B-Instruct-v0.1-AWQ\",\n",
    "    openai_api_key=\"EMPTY\",\n",
    "    openai_api_base=inference_server_url,\n",
    "    # max_tokens=5,\n",
    "    temperature=0,\n",
    ")"
   ]
  },
  {
   "cell_type": "code",
   "execution_count": 6,
   "metadata": {},
   "outputs": [
    {
     "data": {
      "text/plain": [
       "AIMessage(content=' Io amo il program')"
      ]
     },
     "execution_count": 6,
     "metadata": {},
     "output_type": "execute_result"
    }
   ],
   "source": [
    "messages = [\n",
    "    SystemMessage(\n",
    "        content=\"You are a helpful assistant that translates English to Italian.\"\n",
    "    ),\n",
    "    HumanMessage(\n",
    "        content=\"Translate the following sentence from English to Italian: I love programming.\"\n",
    "    ),\n",
    "]\n",
    "chat(messages)"
   ]
  },
  {
   "cell_type": "code",
   "execution_count": 12,
   "metadata": {},
   "outputs": [
    {
     "name": "stdout",
     "output_type": "stream",
     "text": [
      " To create a virtual environment in Python, you can use the `venv` module that comes with Python. Here are the steps to create a virtual environment:\n",
      "\n",
      "1. Open a terminal or command prompt.\n",
      "2. Navigate to the directory where you want to create the virtual environment.\n",
      "3. Run the following command to create the virtual environment:\n",
      "```\n",
      "python -m venv <env_name>\n",
      "```\n",
      "Replace `<env_name>` with the name you want to give to the virtual environment.\n",
      "\n",
      "4. Once the virtual environment is created, you can activate it by running the following command:\n",
      "```\n",
      "source <env_name>/bin/activate\n",
      "```\n",
      "On Windows, you can use the following command instead:\n",
      "```\n",
      "<env_name>\\Scripts\\activate\n",
      "```\n",
      "5. After activating the virtual environment, you can install packages and run your Python code as usual. When you're done working with the virtual environment, you can deactivate it by running the following command:\n",
      "```\n",
      "deactivate\n",
      "```\n",
      "On Windows, you can use the following command instead:\n",
      "```\n",
      "<env_name>\\Scripts\\deactivate\n",
      "```\n",
      "\n",
      "By using virtual environments, you can keep your Python projects organized and separate from each other, and avoid conflicts between different versions of packages.\n"
     ]
    }
   ],
   "source": [
    "messages = [\n",
    "    SystemMessage(\n",
    "        content=\"You are a helpful code assistant here to make my life easier.\"\n",
    "    ),\n",
    "    HumanMessage(\n",
    "        content=\"How do I create a python virutal environment?\"\n",
    "    ),\n",
    "]\n",
    "print(chat(messages).content)"
   ]
  }
 ],
 "metadata": {
  "kernelspec": {
   "display_name": "Python 3",
   "language": "python",
   "name": "python3"
  },
  "language_info": {
   "codemirror_mode": {
    "name": "ipython",
    "version": 3
   },
   "file_extension": ".py",
   "mimetype": "text/x-python",
   "name": "python",
   "nbconvert_exporter": "python",
   "pygments_lexer": "ipython3",
   "version": "3.11.6"
  }
 },
 "nbformat": 4,
 "nbformat_minor": 2
}
